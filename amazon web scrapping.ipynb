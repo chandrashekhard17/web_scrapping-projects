{
 "cells": [
  {
   "cell_type": "code",
   "execution_count": 10,
   "id": "07283ba7",
   "metadata": {},
   "outputs": [],
   "source": [
    "import requests\n",
    "from bs4 import BeautifulSoup as bs\n",
    "from urllib.request import urlopen\n",
    "import logging"
   ]
  },
  {
   "cell_type": "code",
   "execution_count": 11,
   "id": "ed277fca",
   "metadata": {},
   "outputs": [],
   "source": [
    "amazon_url=\"https://www.amazon.in/s?k=\"+\"mobilesunder15000\""
   ]
  },
  {
   "cell_type": "code",
   "execution_count": 12,
   "id": "debfff9a",
   "metadata": {},
   "outputs": [],
   "source": [
    "urlclient=urlopen(amazon_url)"
   ]
  },
  {
   "cell_type": "code",
   "execution_count": 13,
   "id": "9150a5d3",
   "metadata": {},
   "outputs": [],
   "source": [
    "amazon_html=urlclient.read()"
   ]
  },
  {
   "cell_type": "code",
   "execution_count": 14,
   "id": "ff9bcf9e",
   "metadata": {},
   "outputs": [],
   "source": [
    "amazon_soup=bs(amazon_html,'html.parser')"
   ]
  },
  {
   "cell_type": "code",
   "execution_count": 15,
   "id": "71a5cd90",
   "metadata": {},
   "outputs": [],
   "source": [
    "big_box=amazon_soup.find_all('div',class_='a-section a-spacing-small a-spacing-top-small')"
   ]
  },
  {
   "cell_type": "code",
   "execution_count": 27,
   "id": "f7e2d219",
   "metadata": {},
   "outputs": [],
   "source": [
    "product_info=amazon_soup.find_all('span',class_='a-size-medium a-color-base a-text-normal')[0].text"
   ]
  },
  {
   "cell_type": "code",
   "execution_count": 28,
   "id": "ad467d80",
   "metadata": {},
   "outputs": [
    {
     "data": {
      "text/plain": [
       "'TECNO POP 8 (Mystery White,(8GB*+64GB)|90Hz Punch Hole Display with Dynamic Port & Dual Speakers with DTS| 5000mAh Battery |10W Type-C| Side Fingerprint Sensor| Octa-Core Processor'"
      ]
     },
     "execution_count": 28,
     "metadata": {},
     "output_type": "execute_result"
    }
   ],
   "source": [
    "product_info"
   ]
  },
  {
   "cell_type": "code",
   "execution_count": 29,
   "id": "29ced01b",
   "metadata": {},
   "outputs": [],
   "source": [
    "product_all=amazon_soup.find_all('span',class_='a-size-medium a-color-base a-text-normal')"
   ]
  },
  {
   "cell_type": "code",
   "execution_count": 79,
   "id": "0ae3aaaa",
   "metadata": {},
   "outputs": [
    {
     "data": {
      "text/plain": [
       "[<span class=\"a-size-medium a-color-base a-text-normal\">TECNO POP 8 (Mystery White,(8GB*+64GB)|90Hz Punch Hole Display with Dynamic Port &amp; Dual Speakers with DTS| 5000mAh Battery |10W Type-C| Side Fingerprint Sensor| Octa-Core Processor</span>,\n",
       " <span class=\"a-size-medium a-color-base a-text-normal\">Redmi 13C (Stardust Black, 6GB RAM, 128GB Storage) | Powered by 4G MediaTek Helio G85 | 90Hz Display | 50MP AI Triple Camera</span>,\n",
       " <span class=\"a-size-medium a-color-base a-text-normal\">Redmi 13C 5G (Starlight Black, 6GB RAM, 128GB Storage) | MediaTek Dimensity 6100+ 5G | 90Hz Display</span>,\n",
       " <span class=\"a-size-medium a-color-base a-text-normal\">Samsung Galaxy A15 5G (Blue Black, 8GB, 128GB Storage) | 50 MP Main Camera | Android 14 with One UI 6.0 | 16GB Expandable RAM | MediaTek Dimensity 6100+ | 5000 mAh Battery</span>,\n",
       " <span class=\"a-size-medium a-color-base a-text-normal\">Xiaomi Redmi 10 Power (Power Black, 8GB RAM, 128GB Storage)</span>,\n",
       " <span class=\"a-size-medium a-color-base a-text-normal\">Samsung Galaxy M04 Dark Blue, 4GB RAM, 128GB Storage | Upto 8GB RAM with RAM Plus | MediaTek Helio P35 Octa-core Processor | 5000 mAh Battery | 13MP Dual Camera</span>,\n",
       " <span class=\"a-size-medium a-color-base a-text-normal\">Samsung Galaxy F04 Opal Green, 4GB RAM, 64GB Storage | Upto 8GB RAM with RAM Plus | MediaTek Helio P35 Octa-core Processor | 5000 mAh Battery</span>,\n",
       " <span class=\"a-size-medium a-color-base a-text-normal\">vivo Y28 5G (Glitter Aqua, 6GB RAM, 128GB Storage) with No Cost EMI/Additional Exchange Offers</span>,\n",
       " <span class=\"a-size-medium a-color-base a-text-normal\">Samsung Galaxy A25 5G (Blue Black, 8GB, 128GB Storage) | 50 MP Main Camera | Android 14 with One UI 6.0 | 16GB Expandable RAM | Exynos 1280 | 5000 mAh Battery</span>,\n",
       " <span class=\"a-size-medium a-color-base a-text-normal\">Oppo A79 5G (Mystery Black, 8GB RAM, 128GB Storage) | 5000 mAh Battery with 33W SUPERVOOC Charger | 50MP AI Rear Camera | 6.72\" FHD+ 90Hz Display | with No Cost EMI/Additional Exchange Offers</span>,\n",
       " <span class=\"a-size-medium a-color-base a-text-normal\">vivo Y16 (Drizzling Gold, 4GB RAM, 64GB Storage) with No Cost EMI/Additional Exchange Offers</span>,\n",
       " <span class=\"a-size-medium a-color-base a-text-normal\">Samsung Galaxy F04 4GB RAM 64GB Storage | Upto 8GB RAM with RAM Plus | MediaTek Helio P35 Octa-core Processor | 5000 mAh Battery | 13MP Dual Camera (Jade Purple)</span>,\n",
       " <span class=\"a-size-medium a-color-base a-text-normal\">Samsung Galaxy A05 (Black, 4GB, 64GB Storage) | 50 MP Main Camera | Upto 8GB RAM with RAM Plus | MediaTek Helio G85 | 5000 mAh Battery</span>,\n",
       " <span class=\"a-size-medium a-color-base a-text-normal\">Vivo Y16 (Drizzling Gold, 4GB RAM, 128GB Storage) with No Cost EMI/Additional Exchange Offers</span>,\n",
       " <span class=\"a-size-medium a-color-base a-text-normal\">realme narzo 50A (Oxygen Blue , 4GB RAM + 128 GB Storage) Helio G85 Processor | 6000 mAh Battery</span>,\n",
       " <span class=\"a-size-medium a-color-base a-text-normal\">Realme narzo 50A Prime (Flash Black, 4GB RAM+128GB Storage) FHD+ Display | 50MP AI Triple Camera (No Charger Variant)</span>]"
      ]
     },
     "execution_count": 79,
     "metadata": {},
     "output_type": "execute_result"
    }
   ],
   "source": [
    "product_all"
   ]
  },
  {
   "cell_type": "code",
   "execution_count": 33,
   "id": "01fc6889",
   "metadata": {},
   "outputs": [
    {
     "name": "stdout",
     "output_type": "stream",
     "text": [
      "<span class=\"a-size-medium a-color-base a-text-normal\">TECNO POP 8 (Mystery White,(8GB*+64GB)|90Hz Punch Hole Display with Dynamic Port &amp; Dual Speakers with DTS| 5000mAh Battery |10W Type-C| Side Fingerprint Sensor| Octa-Core Processor</span> \n",
      "\n",
      "<span class=\"a-size-medium a-color-base a-text-normal\">Redmi 13C (Stardust Black, 6GB RAM, 128GB Storage) | Powered by 4G MediaTek Helio G85 | 90Hz Display | 50MP AI Triple Camera</span> \n",
      "\n",
      "<span class=\"a-size-medium a-color-base a-text-normal\">Redmi 13C 5G (Starlight Black, 6GB RAM, 128GB Storage) | MediaTek Dimensity 6100+ 5G | 90Hz Display</span> \n",
      "\n",
      "<span class=\"a-size-medium a-color-base a-text-normal\">Samsung Galaxy A15 5G (Blue Black, 8GB, 128GB Storage) | 50 MP Main Camera | Android 14 with One UI 6.0 | 16GB Expandable RAM | MediaTek Dimensity 6100+ | 5000 mAh Battery</span> \n",
      "\n",
      "<span class=\"a-size-medium a-color-base a-text-normal\">Xiaomi Redmi 10 Power (Power Black, 8GB RAM, 128GB Storage)</span> \n",
      "\n",
      "<span class=\"a-size-medium a-color-base a-text-normal\">Samsung Galaxy M04 Dark Blue, 4GB RAM, 128GB Storage | Upto 8GB RAM with RAM Plus | MediaTek Helio P35 Octa-core Processor | 5000 mAh Battery | 13MP Dual Camera</span> \n",
      "\n",
      "<span class=\"a-size-medium a-color-base a-text-normal\">Samsung Galaxy F04 Opal Green, 4GB RAM, 64GB Storage | Upto 8GB RAM with RAM Plus | MediaTek Helio P35 Octa-core Processor | 5000 mAh Battery</span> \n",
      "\n",
      "<span class=\"a-size-medium a-color-base a-text-normal\">vivo Y28 5G (Glitter Aqua, 6GB RAM, 128GB Storage) with No Cost EMI/Additional Exchange Offers</span> \n",
      "\n",
      "<span class=\"a-size-medium a-color-base a-text-normal\">Samsung Galaxy A25 5G (Blue Black, 8GB, 128GB Storage) | 50 MP Main Camera | Android 14 with One UI 6.0 | 16GB Expandable RAM | Exynos 1280 | 5000 mAh Battery</span> \n",
      "\n",
      "<span class=\"a-size-medium a-color-base a-text-normal\">Oppo A79 5G (Mystery Black, 8GB RAM, 128GB Storage) | 5000 mAh Battery with 33W SUPERVOOC Charger | 50MP AI Rear Camera | 6.72\" FHD+ 90Hz Display | with No Cost EMI/Additional Exchange Offers</span> \n",
      "\n",
      "<span class=\"a-size-medium a-color-base a-text-normal\">vivo Y16 (Drizzling Gold, 4GB RAM, 64GB Storage) with No Cost EMI/Additional Exchange Offers</span> \n",
      "\n",
      "<span class=\"a-size-medium a-color-base a-text-normal\">Samsung Galaxy F04 4GB RAM 64GB Storage | Upto 8GB RAM with RAM Plus | MediaTek Helio P35 Octa-core Processor | 5000 mAh Battery | 13MP Dual Camera (Jade Purple)</span> \n",
      "\n",
      "<span class=\"a-size-medium a-color-base a-text-normal\">Samsung Galaxy A05 (Black, 4GB, 64GB Storage) | 50 MP Main Camera | Upto 8GB RAM with RAM Plus | MediaTek Helio G85 | 5000 mAh Battery</span> \n",
      "\n",
      "<span class=\"a-size-medium a-color-base a-text-normal\">Vivo Y16 (Drizzling Gold, 4GB RAM, 128GB Storage) with No Cost EMI/Additional Exchange Offers</span> \n",
      "\n",
      "<span class=\"a-size-medium a-color-base a-text-normal\">realme narzo 50A (Oxygen Blue , 4GB RAM + 128 GB Storage) Helio G85 Processor | 6000 mAh Battery</span> \n",
      "\n",
      "<span class=\"a-size-medium a-color-base a-text-normal\">Realme narzo 50A Prime (Flash Black, 4GB RAM+128GB Storage) FHD+ Display | 50MP AI Triple Camera (No Charger Variant)</span> \n",
      "\n"
     ]
    }
   ],
   "source": [
    "#all products information\n",
    "for i in product_all:\n",
    "    print(i,'\\n')"
   ]
  },
  {
   "cell_type": "code",
   "execution_count": 65,
   "id": "f1467684",
   "metadata": {},
   "outputs": [],
   "source": [
    "products_link=amazon_soup.find_all('a',class_='a-link-normal s-underline-text s-underline-link-text s-link-style a-text-normal')"
   ]
  },
  {
   "cell_type": "code",
   "execution_count": 67,
   "id": "071026a8",
   "metadata": {},
   "outputs": [
    {
     "data": {
      "text/plain": [
       "[<a class=\"a-link-normal s-underline-text s-underline-link-text s-link-style a-text-normal\" href=\"/Mystery-Speakers-Fingerprint-Octa-Core-Processor/dp/B0CQ7SHTF4\" target=\"_blank\"><span class=\"a-size-medium a-color-base a-text-normal\">TECNO POP 8 (Mystery White,(8GB*+64GB)|90Hz Punch Hole Display with Dynamic Port &amp; Dual Speakers with DTS| 5000mAh Battery |10W Type-C| Side Fingerprint Sensor| Octa-Core Processor</span> </a>,\n",
       " <a class=\"a-link-normal s-underline-text s-underline-link-text s-link-style a-text-normal\" href=\"/Stardust-Storage-Powered-MediaTek-Display/dp/B0CMTW9MVK\" target=\"_blank\"><span class=\"a-size-medium a-color-base a-text-normal\">Redmi 13C (Stardust Black, 6GB RAM, 128GB Storage) | Powered by 4G MediaTek Helio G85 | 90Hz Display | 50MP AI Triple Camera</span> </a>,\n",
       " <a class=\"a-link-normal s-underline-text s-underline-link-text s-link-style a-text-normal\" href=\"/Redmi-Starlight-Storage-MediaTek-Dimensity/dp/B0CNX6WVZF\" target=\"_blank\"><span class=\"a-size-medium a-color-base a-text-normal\">Redmi 13C 5G (Starlight Black, 6GB RAM, 128GB Storage) | MediaTek Dimensity 6100+ 5G | 90Hz Display</span> </a>,\n",
       " <a class=\"a-link-normal s-underline-text s-underline-link-text s-link-style a-text-normal\" href=\"/Samsung-Storage-Expandable-MediaTek-Dimensity/dp/B0CP7WM3ZQ\" target=\"_blank\"><span class=\"a-size-medium a-color-base a-text-normal\">Samsung Galaxy A15 5G (Blue Black, 8GB, 128GB Storage) | 50 MP Main Camera | Android 14 with One UI 6.0 | 16GB Expandable RAM | MediaTek Dimensity 6100+ | 5000 mAh Battery</span> </a>,\n",
       " <a class=\"a-link-normal s-underline-text s-underline-link-text s-link-style a-text-normal\" href=\"/Redmi-Power-Black-128GB-Storage/dp/B09Y64H8VS\" target=\"_blank\"><span class=\"a-size-medium a-color-base a-text-normal\">Xiaomi Redmi 10 Power (Power Black, 8GB RAM, 128GB Storage)</span> </a>,\n",
       " <a class=\"a-link-normal s-underline-text s-underline-link-text s-link-style a-text-normal\" href=\"/Samsung-Storage-MediaTek-Octa-core-Processor/dp/B0BMGG6NKT\" target=\"_blank\"><span class=\"a-size-medium a-color-base a-text-normal\">Samsung Galaxy M04 Dark Blue, 4GB RAM, 128GB Storage | Upto 8GB RAM with RAM Plus | MediaTek Helio P35 Octa-core Processor | 5000 mAh Battery | 13MP Dual Camera</span> </a>,\n",
       " <a class=\"a-link-normal s-underline-text s-underline-link-text s-link-style a-text-normal\" href=\"/Samsung-Storage-MediaTek-Octa-core-Processor/dp/B0CSX7CDWK\" target=\"_blank\"><span class=\"a-size-medium a-color-base a-text-normal\">Samsung Galaxy F04 Opal Green, 4GB RAM, 64GB Storage | Upto 8GB RAM with RAM Plus | MediaTek Helio P35 Octa-core Processor | 5000 mAh Battery</span> </a>,\n",
       " <a class=\"a-link-normal s-underline-text s-underline-link-text s-link-style a-text-normal\" href=\"/Glitter-Storage-Additional-Exchange-Offers/dp/B07WDKLFWC\" target=\"_blank\"><span class=\"a-size-medium a-color-base a-text-normal\">vivo Y28 5G (Glitter Aqua, 6GB RAM, 128GB Storage) with No Cost EMI/Additional Exchange Offers</span> </a>,\n",
       " <a class=\"a-link-normal s-underline-text s-underline-link-text s-link-style a-text-normal\" href=\"/Samsung-Storage-Android-Expandable-Battery/dp/B0CP7VHHQD\" target=\"_blank\"><span class=\"a-size-medium a-color-base a-text-normal\">Samsung Galaxy A25 5G (Blue Black, 8GB, 128GB Storage) | 50 MP Main Camera | Android 14 with One UI 6.0 | 16GB Expandable RAM | Exynos 1280 | 5000 mAh Battery</span> </a>,\n",
       " <a class=\"a-link-normal s-underline-text s-underline-link-text s-link-style a-text-normal\" href=\"/Oppo-Mystery-SUPERVOOC-Additional-Exchange/dp/B0CL53S126\" target=\"_blank\"><span class=\"a-size-medium a-color-base a-text-normal\">Oppo A79 5G (Mystery Black, 8GB RAM, 128GB Storage) | 5000 mAh Battery with 33W SUPERVOOC Charger | 50MP AI Rear Camera | 6.72\" FHD+ 90Hz Display | with No Cost EMI/Additional Exchange Offers</span> </a>,\n",
       " <a class=\"a-link-normal s-underline-text s-underline-link-text s-link-style a-text-normal\" href=\"/Vivo-Drizzling-Storage-Additional-Exchange/dp/B07WHQ4S68\" target=\"_blank\"><span class=\"a-size-medium a-color-base a-text-normal\">vivo Y16 (Drizzling Gold, 4GB RAM, 64GB Storage) with No Cost EMI/Additional Exchange Offers</span> </a>,\n",
       " <a class=\"a-link-normal s-underline-text s-underline-link-text s-link-style a-text-normal\" href=\"/Samsung-Storage-MediaTek-Octa-core-Processor/dp/B0CJ5BR7V7\" target=\"_blank\"><span class=\"a-size-medium a-color-base a-text-normal\">Samsung Galaxy F04 4GB RAM 64GB Storage | Upto 8GB RAM with RAM Plus | MediaTek Helio P35 Octa-core Processor | 5000 mAh Battery | 13MP Dual Camera (Jade Purple)</span> </a>,\n",
       " <a class=\"a-link-normal s-underline-text s-underline-link-text s-link-style a-text-normal\" href=\"/Samsung-Galaxy-Storage-MediaTek-Battery/dp/B0CJ2H824T\" target=\"_blank\"><span class=\"a-size-medium a-color-base a-text-normal\">Samsung Galaxy A05 (Black, 4GB, 64GB Storage) | 50 MP Main Camera | Upto 8GB RAM with RAM Plus | MediaTek Helio G85 | 5000 mAh Battery</span> </a>,\n",
       " <a class=\"a-link-normal s-underline-text s-underline-link-text s-link-style a-text-normal\" href=\"/Vivo-Drizzling-Storage-Additional-Exchange/dp/B07WJW747N\" target=\"_blank\"><span class=\"a-size-medium a-color-base a-text-normal\">Vivo Y16 (Drizzling Gold, 4GB RAM, 128GB Storage) with No Cost EMI/Additional Exchange Offers</span> </a>,\n",
       " <a class=\"a-link-normal s-underline-text s-underline-link-text s-link-style a-text-normal\" href=\"/realme-Oxygen-Storage-Processor-Battery/dp/B09FK8MBMJ\" target=\"_blank\"><span class=\"a-size-medium a-color-base a-text-normal\">realme narzo 50A (Oxygen Blue , 4GB RAM + 128 GB Storage) Helio G85 Processor | 6000 mAh Battery</span> </a>,\n",
       " <a class=\"a-link-normal s-underline-text s-underline-link-text s-link-style a-text-normal\" href=\"/realme-Storage-Display-Charger-Variant/dp/B09WYXDNWW\" target=\"_blank\"><span class=\"a-size-medium a-color-base a-text-normal\">Realme narzo 50A Prime (Flash Black, 4GB RAM+128GB Storage) FHD+ Display | 50MP AI Triple Camera (No Charger Variant)</span> </a>]"
      ]
     },
     "execution_count": 67,
     "metadata": {},
     "output_type": "execute_result"
    }
   ],
   "source": [
    "products_link"
   ]
  },
  {
   "cell_type": "code",
   "execution_count": 75,
   "id": "9661d7b6",
   "metadata": {},
   "outputs": [
    {
     "data": {
      "text/plain": [
       "<a class=\"a-link-normal s-underline-text s-underline-link-text s-link-style a-text-normal\" href=\"/Mystery-Speakers-Fingerprint-Octa-Core-Processor/dp/B0CQ7SHTF4\" target=\"_blank\"><span class=\"a-size-medium a-color-base a-text-normal\">TECNO POP 8 (Mystery White,(8GB*+64GB)|90Hz Punch Hole Display with Dynamic Port &amp; Dual Speakers with DTS| 5000mAh Battery |10W Type-C| Side Fingerprint Sensor| Octa-Core Processor</span> </a>"
      ]
     },
     "execution_count": 75,
     "metadata": {},
     "output_type": "execute_result"
    }
   ],
   "source": [
    "products_link[0]"
   ]
  },
  {
   "cell_type": "code",
   "execution_count": 80,
   "id": "a2714b15",
   "metadata": {},
   "outputs": [
    {
     "name": "stdout",
     "output_type": "stream",
     "text": [
      "TECNO POP 8 (Mystery White,(8GB*+64GB)|90Hz Punch Hole Display with Dynamic Port & Dual Speakers with DTS| 5000mAh Battery |10W Type-C| Side Fingerprint Sensor| Octa-Core Processor \n",
      "Redmi 13C (Stardust Black, 6GB RAM, 128GB Storage) | Powered by 4G MediaTek Helio G85 | 90Hz Display | 50MP AI Triple Camera \n",
      "Redmi 13C 5G (Starlight Black, 6GB RAM, 128GB Storage) | MediaTek Dimensity 6100+ 5G | 90Hz Display \n",
      "Samsung Galaxy A15 5G (Blue Black, 8GB, 128GB Storage) | 50 MP Main Camera | Android 14 with One UI 6.0 | 16GB Expandable RAM | MediaTek Dimensity 6100+ | 5000 mAh Battery \n",
      "Xiaomi Redmi 10 Power (Power Black, 8GB RAM, 128GB Storage) \n",
      "Samsung Galaxy M04 Dark Blue, 4GB RAM, 128GB Storage | Upto 8GB RAM with RAM Plus | MediaTek Helio P35 Octa-core Processor | 5000 mAh Battery | 13MP Dual Camera \n",
      "Samsung Galaxy F04 Opal Green, 4GB RAM, 64GB Storage | Upto 8GB RAM with RAM Plus | MediaTek Helio P35 Octa-core Processor | 5000 mAh Battery \n",
      "vivo Y28 5G (Glitter Aqua, 6GB RAM, 128GB Storage) with No Cost EMI/Additional Exchange Offers \n",
      "Samsung Galaxy A25 5G (Blue Black, 8GB, 128GB Storage) | 50 MP Main Camera | Android 14 with One UI 6.0 | 16GB Expandable RAM | Exynos 1280 | 5000 mAh Battery \n",
      "Oppo A79 5G (Mystery Black, 8GB RAM, 128GB Storage) | 5000 mAh Battery with 33W SUPERVOOC Charger | 50MP AI Rear Camera | 6.72\" FHD+ 90Hz Display | with No Cost EMI/Additional Exchange Offers \n",
      "vivo Y16 (Drizzling Gold, 4GB RAM, 64GB Storage) with No Cost EMI/Additional Exchange Offers \n",
      "Samsung Galaxy F04 4GB RAM 64GB Storage | Upto 8GB RAM with RAM Plus | MediaTek Helio P35 Octa-core Processor | 5000 mAh Battery | 13MP Dual Camera (Jade Purple) \n",
      "Samsung Galaxy A05 (Black, 4GB, 64GB Storage) | 50 MP Main Camera | Upto 8GB RAM with RAM Plus | MediaTek Helio G85 | 5000 mAh Battery \n",
      "Vivo Y16 (Drizzling Gold, 4GB RAM, 128GB Storage) with No Cost EMI/Additional Exchange Offers \n",
      "realme narzo 50A (Oxygen Blue , 4GB RAM + 128 GB Storage) Helio G85 Processor | 6000 mAh Battery \n",
      "Realme narzo 50A Prime (Flash Black, 4GB RAM+128GB Storage) FHD+ Display | 50MP AI Triple Camera (No Charger Variant) \n"
     ]
    }
   ],
   "source": [
    "for i in products_link:\n",
    "    print(i.text)"
   ]
  },
  {
   "cell_type": "code",
   "execution_count": null,
   "id": "ffafaba3",
   "metadata": {},
   "outputs": [],
   "source": []
  }
 ],
 "metadata": {
  "kernelspec": {
   "display_name": "Python 3 (ipykernel)",
   "language": "python",
   "name": "python3"
  },
  "language_info": {
   "codemirror_mode": {
    "name": "ipython",
    "version": 3
   },
   "file_extension": ".py",
   "mimetype": "text/x-python",
   "name": "python",
   "nbconvert_exporter": "python",
   "pygments_lexer": "ipython3",
   "version": "3.10.9"
  }
 },
 "nbformat": 4,
 "nbformat_minor": 5
}
