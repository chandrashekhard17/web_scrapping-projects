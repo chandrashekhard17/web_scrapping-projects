{
 "cells": [
  {
   "cell_type": "code",
   "execution_count": 31,
   "id": "dde35a92",
   "metadata": {},
   "outputs": [],
   "source": [
    "import requests\n",
    "from bs4 import BeautifulSoup as bs\n",
    "from urllib.request import urlopen\n",
    "import logging"
   ]
  },
  {
   "cell_type": "code",
   "execution_count": 32,
   "id": "a2c0be03",
   "metadata": {},
   "outputs": [],
   "source": [
    "youtube_url=\"https://www.youtube.com/watch?v=nVyYzDuSYug\""
   ]
  },
  {
   "cell_type": "code",
   "execution_count": 33,
   "id": "b7f9878a",
   "metadata": {},
   "outputs": [],
   "source": [
    "urlclient=urlopen(youtube_url)"
   ]
  },
  {
   "cell_type": "code",
   "execution_count": 34,
   "id": "dde454ad",
   "metadata": {},
   "outputs": [
    {
     "data": {
      "text/plain": [
       "<http.client.HTTPResponse at 0x2850bc23d60>"
      ]
     },
     "execution_count": 34,
     "metadata": {},
     "output_type": "execute_result"
    }
   ],
   "source": [
    "urlclient"
   ]
  },
  {
   "cell_type": "code",
   "execution_count": 35,
   "id": "98c05eb5",
   "metadata": {},
   "outputs": [],
   "source": [
    "youtube_html=urlclient.read()"
   ]
  },
  {
   "cell_type": "code",
   "execution_count": 36,
   "id": "0a13e15b",
   "metadata": {},
   "outputs": [],
   "source": [
    "soup_youtube=bs(youtube_html,'lxml')"
   ]
  },
  {
   "cell_type": "code",
   "execution_count": 48,
   "id": "14f18878",
   "metadata": {},
   "outputs": [],
   "source": [
    "html_txt=soup_youtube.get_text"
   ]
  },
  {
   "cell_type": "code",
   "execution_count": 52,
   "id": "75561454",
   "metadata": {},
   "outputs": [],
   "source": [
    "res=soup_youtube.tittle"
   ]
  },
  {
   "cell_type": "code",
   "execution_count": 55,
   "id": "e1e3c17b",
   "metadata": {},
   "outputs": [
    {
     "ename": "AttributeError",
     "evalue": "'NoneType' object has no attribute 'get_text'",
     "output_type": "error",
     "traceback": [
      "\u001b[1;31m---------------------------------------------------------------------------\u001b[0m",
      "\u001b[1;31mAttributeError\u001b[0m                            Traceback (most recent call last)",
      "Cell \u001b[1;32mIn[55], line 1\u001b[0m\n\u001b[1;32m----> 1\u001b[0m \u001b[43mres\u001b[49m\u001b[38;5;241;43m.\u001b[39;49m\u001b[43mget_text\u001b[49m()\n",
      "\u001b[1;31mAttributeError\u001b[0m: 'NoneType' object has no attribute 'get_text'"
     ]
    }
   ],
   "source": [
    "res.get_text()"
   ]
  },
  {
   "cell_type": "code",
   "execution_count": null,
   "id": "c4e2bc37",
   "metadata": {},
   "outputs": [],
   "source": []
  }
 ],
 "metadata": {
  "kernelspec": {
   "display_name": "Python 3 (ipykernel)",
   "language": "python",
   "name": "python3"
  },
  "language_info": {
   "codemirror_mode": {
    "name": "ipython",
    "version": 3
   },
   "file_extension": ".py",
   "mimetype": "text/x-python",
   "name": "python",
   "nbconvert_exporter": "python",
   "pygments_lexer": "ipython3",
   "version": "3.10.9"
  }
 },
 "nbformat": 4,
 "nbformat_minor": 5
}
