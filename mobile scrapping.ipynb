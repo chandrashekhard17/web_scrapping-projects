{
 "cells": [
  {
   "cell_type": "code",
   "execution_count": 1,
   "id": "1dd7bae6",
   "metadata": {},
   "outputs": [],
   "source": [
    "import requests\n",
    "from bs4 import BeautifulSoup as bs\n",
    "from urllib.request import urlopen\n",
    "import logging"
   ]
  },
  {
   "cell_type": "code",
   "execution_count": 2,
   "id": "505c1741",
   "metadata": {},
   "outputs": [],
   "source": [
    "flipkart=\"https://www.flipkart.com/search?q=\"+\"mobile under 15000\""
   ]
  },
  {
   "cell_type": "code",
   "execution_count": 3,
   "id": "cf47c524",
   "metadata": {},
   "outputs": [
    {
     "data": {
      "text/plain": [
       "'https://www.flipkart.com/search?q=mobile under 15000'"
      ]
     },
     "execution_count": 3,
     "metadata": {},
     "output_type": "execute_result"
    }
   ],
   "source": [
    "flipkart"
   ]
  },
  {
   "cell_type": "code",
   "execution_count": 9,
   "id": "9dbca398",
   "metadata": {},
   "outputs": [],
   "source": [
    "flipkart_html=requests.get(flipkart).text"
   ]
  },
  {
   "cell_type": "code",
   "execution_count": 15,
   "id": "43efea92",
   "metadata": {},
   "outputs": [],
   "source": [
    "flipkart_soup=bs(flipkart_html,'html.parser')"
   ]
  },
  {
   "cell_type": "code",
   "execution_count": 26,
   "id": "03d511b9",
   "metadata": {},
   "outputs": [],
   "source": [
    "big_box=flipkart_soup.find_all('div',{'class':'_4rR01T'})"
   ]
  },
  {
   "cell_type": "code",
   "execution_count": 31,
   "id": "6efa9e4e",
   "metadata": {},
   "outputs": [
    {
     "name": "stdout",
     "output_type": "stream",
     "text": [
      "realme C67 5G (Dark Purple, 128 GB)\n",
      "Motorola G34 5G (Ocean Green, 128 GB)\n",
      "Motorola G34 5G (Ice Blue, 128 GB)\n",
      "vivo T2x 5G (Aurora Gold, 128 GB)\n",
      "vivo T2x 5G (Marine Blue, 128 GB)\n",
      "vivo T2x 5G (Aurora Gold, 128 GB)\n",
      "vivo T2x 5G (Marine Blue, 128 GB)\n",
      "vivo T2x 5G (Glimmer Black, 128 GB)\n",
      "vivo T2x 5G (Aurora Gold, 128 GB)\n",
      "vivo T2x 5G (Glimmer Black, 128 GB)\n",
      "vivo T2x 5G (Marine Blue, 128 GB)\n",
      "vivo T2x 5G (Glimmer Black, 128 GB)\n",
      "SAMSUNG Galaxy F14 5G (GOAT Green, 128 GB)\n",
      "Motorola G34 5G (Ocean Green, 128 GB)\n",
      "REDMI 12 5G (Moonstone Silver, 128 GB)\n",
      "Motorola g54 5G (Midnight Blue, 128 GB)\n",
      "SAMSUNG Galaxy F14 5G (OMG Black, 128 GB)\n",
      "Motorola g54 5G (Mint Green, 128 GB)\n",
      "SAMSUNG Galaxy F14 5G (B.A.E. Purple, 128 GB)\n",
      "REDMI 12 (Pastel Blue, 128 GB)\n",
      "POCO M6 5G (Orion Blue, 128 GB)\n",
      "Motorola G34 5G (Charcoal Black, 128 GB)\n",
      "Motorola g54 5G (Pearl Blue, 128 GB)\n",
      "POCO M6 Pro 5G (Forest Green, 128 GB)\n"
     ]
    }
   ],
   "source": [
    "for i in big_box:\n",
    "    print(i.text)"
   ]
  },
  {
   "cell_type": "code",
   "execution_count": 39,
   "id": "a0db4fe0",
   "metadata": {},
   "outputs": [],
   "source": [
    "n_page=flipkart_soup.find_all('a',{'class':'ge-49M'})"
   ]
  },
  {
   "cell_type": "code",
   "execution_count": 41,
   "id": "026a1f46",
   "metadata": {},
   "outputs": [
    {
     "name": "stdout",
     "output_type": "stream",
     "text": [
      "<a class=\"ge-49M _2Kfbh8\" href=\"/search?q=mobile+under+15000&amp;page=1\">1</a>\n",
      "<a class=\"ge-49M\" href=\"/search?q=mobile+under+15000&amp;page=2\">2</a>\n",
      "<a class=\"ge-49M\" href=\"/search?q=mobile+under+15000&amp;page=3\">3</a>\n",
      "<a class=\"ge-49M\" href=\"/search?q=mobile+under+15000&amp;page=4\">4</a>\n",
      "<a class=\"ge-49M\" href=\"/search?q=mobile+under+15000&amp;page=5\">5</a>\n",
      "<a class=\"ge-49M\" href=\"/search?q=mobile+under+15000&amp;page=6\">6</a>\n",
      "<a class=\"ge-49M\" href=\"/search?q=mobile+under+15000&amp;page=7\">7</a>\n",
      "<a class=\"ge-49M\" href=\"/search?q=mobile+under+15000&amp;page=8\">8</a>\n",
      "<a class=\"ge-49M\" href=\"/search?q=mobile+under+15000&amp;page=9\">9</a>\n",
      "<a class=\"ge-49M\" href=\"/search?q=mobile+under+15000&amp;page=10\">10</a>\n"
     ]
    }
   ],
   "source": [
    "for i in n_page:\n",
    "    print(i)"
   ]
  },
  {
   "cell_type": "code",
   "execution_count": 43,
   "id": "6304fdc9",
   "metadata": {},
   "outputs": [],
   "source": [
    "del n_page[0]"
   ]
  },
  {
   "cell_type": "code",
   "execution_count": 44,
   "id": "eea30228",
   "metadata": {},
   "outputs": [
    {
     "data": {
      "text/plain": [
       "[<a class=\"ge-49M\" href=\"/search?q=mobile+under+15000&amp;page=2\">2</a>,\n",
       " <a class=\"ge-49M\" href=\"/search?q=mobile+under+15000&amp;page=3\">3</a>,\n",
       " <a class=\"ge-49M\" href=\"/search?q=mobile+under+15000&amp;page=4\">4</a>,\n",
       " <a class=\"ge-49M\" href=\"/search?q=mobile+under+15000&amp;page=5\">5</a>,\n",
       " <a class=\"ge-49M\" href=\"/search?q=mobile+under+15000&amp;page=6\">6</a>,\n",
       " <a class=\"ge-49M\" href=\"/search?q=mobile+under+15000&amp;page=7\">7</a>,\n",
       " <a class=\"ge-49M\" href=\"/search?q=mobile+under+15000&amp;page=8\">8</a>,\n",
       " <a class=\"ge-49M\" href=\"/search?q=mobile+under+15000&amp;page=9\">9</a>,\n",
       " <a class=\"ge-49M\" href=\"/search?q=mobile+under+15000&amp;page=10\">10</a>]"
      ]
     },
     "execution_count": 44,
     "metadata": {},
     "output_type": "execute_result"
    }
   ],
   "source": [
    "n_page"
   ]
  },
  {
   "cell_type": "code",
   "execution_count": 48,
   "id": "f696d86e",
   "metadata": {},
   "outputs": [
    {
     "name": "stdout",
     "output_type": "stream",
     "text": [
      "https://www.flipkart.com//search?q=mobile+under+15000&page=2\n",
      "https://www.flipkart.com//search?q=mobile+under+15000&page=3\n",
      "https://www.flipkart.com//search?q=mobile+under+15000&page=4\n",
      "https://www.flipkart.com//search?q=mobile+under+15000&page=5\n",
      "https://www.flipkart.com//search?q=mobile+under+15000&page=6\n",
      "https://www.flipkart.com//search?q=mobile+under+15000&page=7\n",
      "https://www.flipkart.com//search?q=mobile+under+15000&page=8\n",
      "https://www.flipkart.com//search?q=mobile+under+15000&page=9\n",
      "https://www.flipkart.com//search?q=mobile+under+15000&page=10\n"
     ]
    }
   ],
   "source": [
    "for i in n_page:\n",
    "    print('https://www.flipkart.com/'+i['href'])"
   ]
  },
  {
   "cell_type": "code",
   "execution_count": null,
   "id": "61c763cb",
   "metadata": {},
   "outputs": [],
   "source": []
  }
 ],
 "metadata": {
  "kernelspec": {
   "display_name": "Python 3 (ipykernel)",
   "language": "python",
   "name": "python3"
  },
  "language_info": {
   "codemirror_mode": {
    "name": "ipython",
    "version": 3
   },
   "file_extension": ".py",
   "mimetype": "text/x-python",
   "name": "python",
   "nbconvert_exporter": "python",
   "pygments_lexer": "ipython3",
   "version": "3.10.9"
  }
 },
 "nbformat": 4,
 "nbformat_minor": 5
}
