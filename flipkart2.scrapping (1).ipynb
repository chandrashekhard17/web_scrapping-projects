{
 "cells": [
  {
   "cell_type": "code",
   "execution_count": 1,
   "id": "13a1cb19",
   "metadata": {},
   "outputs": [],
   "source": [
    "import requests\n",
    "from bs4 import BeautifulSoup as bs\n",
    "from urllib.request import urlopen\n",
    "import logging"
   ]
  },
  {
   "cell_type": "code",
   "execution_count": 2,
   "id": "3ae04a1a",
   "metadata": {},
   "outputs": [],
   "source": [
    "flipkart_url=\"https://www.flipkart.com/search?q=\"+\"tv\""
   ]
  },
  {
   "cell_type": "code",
   "execution_count": 3,
   "id": "5cec800d",
   "metadata": {},
   "outputs": [
    {
     "data": {
      "text/plain": [
       "'https://www.flipkart.com/search?q=tv'"
      ]
     },
     "execution_count": 3,
     "metadata": {},
     "output_type": "execute_result"
    }
   ],
   "source": [
    "flipkart_url"
   ]
  },
  {
   "cell_type": "code",
   "execution_count": 4,
   "id": "ee79b9d4",
   "metadata": {},
   "outputs": [],
   "source": [
    "urlclient=urlopen(flipkart_url)"
   ]
  },
  {
   "cell_type": "code",
   "execution_count": 5,
   "id": "522dec0f",
   "metadata": {},
   "outputs": [
    {
     "data": {
      "text/plain": [
       "<http.client.HTTPResponse at 0x27f376d8400>"
      ]
     },
     "execution_count": 5,
     "metadata": {},
     "output_type": "execute_result"
    }
   ],
   "source": [
    "urlclient"
   ]
  },
  {
   "cell_type": "code",
   "execution_count": 6,
   "id": "b541a3cf",
   "metadata": {},
   "outputs": [],
   "source": [
    "flipkart_html=urlclient.read()"
   ]
  },
  {
   "cell_type": "code",
   "execution_count": 8,
   "id": "7ae1af23",
   "metadata": {},
   "outputs": [],
   "source": [
    "flipkart_soup=bs(flipkart_html,'html.parser')"
   ]
  },
  {
   "cell_type": "code",
   "execution_count": 15,
   "id": "be52497a",
   "metadata": {},
   "outputs": [],
   "source": [
    "big_box=flipkart_soup.find_all(\"div\",{'class':'_1AtVbE col-12-12'})"
   ]
  },
  {
   "cell_type": "code",
   "execution_count": 16,
   "id": "d42e00e6",
   "metadata": {},
   "outputs": [
    {
     "data": {
      "text/plain": [
       "29"
      ]
     },
     "execution_count": 16,
     "metadata": {},
     "output_type": "execute_result"
    }
   ],
   "source": [
    "len(big_box)"
   ]
  },
  {
   "cell_type": "code",
   "execution_count": 17,
   "id": "c68473fc",
   "metadata": {},
   "outputs": [],
   "source": [
    "del big_box[0:3]"
   ]
  },
  {
   "cell_type": "code",
   "execution_count": 18,
   "id": "7c7293e6",
   "metadata": {},
   "outputs": [
    {
     "data": {
      "text/plain": [
       "26"
      ]
     },
     "execution_count": 18,
     "metadata": {},
     "output_type": "execute_result"
    }
   ],
   "source": [
    "len(big_box)"
   ]
  },
  {
   "cell_type": "code",
   "execution_count": 24,
   "id": "cc434ca6",
   "metadata": {},
   "outputs": [],
   "source": [
    "product=big_box[0].div.div.div.a['href']"
   ]
  },
  {
   "cell_type": "code",
   "execution_count": 27,
   "id": "1c5f503e",
   "metadata": {},
   "outputs": [],
   "source": [
    "productlink=\"https://www.flipkart.com\"+product"
   ]
  },
  {
   "cell_type": "code",
   "execution_count": 28,
   "id": "655916ee",
   "metadata": {},
   "outputs": [
    {
     "data": {
      "text/plain": [
       "'https://www.flipkart.com/iffalcon-tcl-79-97-cm-32-inch-hd-ready-led-smart-android-tv-google-assistant/p/itm96e1c0ac31c75?pid=TVSGKNZGHCZRNEDW&lid=LSTTVSGKNZGHCZRNEDWPKDF2X&marketplace=FLIPKART&q=tv&store=ckf%2Fczl&spotlightTagId=BestsellerId_ckf%2Fczl&srno=s_1_3&otracker=search&fm=organic&iid=acdc4598-492c-4ab5-b9ec-9da8134520c1.TVSGKNZGHCZRNEDW.SEARCH&ppt=None&ppn=None&ssid=bh1qiiw05c0000001707029291102&qH=c9a1fdac6e082dd8'"
      ]
     },
     "execution_count": 28,
     "metadata": {},
     "output_type": "execute_result"
    }
   ],
   "source": [
    "productlink"
   ]
  },
  {
   "cell_type": "code",
   "execution_count": 29,
   "id": "e67ecb44",
   "metadata": {},
   "outputs": [
    {
     "name": "stdout",
     "output_type": "stream",
     "text": [
      "https://www.flipkart.com/iffalcon-tcl-79-97-cm-32-inch-hd-ready-led-smart-android-tv-google-assistant/p/itm96e1c0ac31c75?pid=TVSGKNZGHCZRNEDW&lid=LSTTVSGKNZGHCZRNEDWPKDF2X&marketplace=FLIPKART&q=tv&store=ckf%2Fczl&spotlightTagId=BestsellerId_ckf%2Fczl&srno=s_1_3&otracker=search&fm=organic&iid=acdc4598-492c-4ab5-b9ec-9da8134520c1.TVSGKNZGHCZRNEDW.SEARCH&ppt=None&ppn=None&ssid=bh1qiiw05c0000001707029291102&qH=c9a1fdac6e082dd8\n",
      "https://www.flipkart.com/thomson-alpha-80-cm-32-inch-hd-ready-led-smart-linux-tv-2022-30-w-sound-output-bezel-less-design/p/itmbbd33333c58bb?pid=TVSGEMQV7R4CMTGA&lid=LSTTVSGEMQV7R4CMTGAODWDFI&marketplace=FLIPKART&q=tv&store=ckf%2Fczl&srno=s_1_4&otracker=search&fm=organic&iid=acdc4598-492c-4ab5-b9ec-9da8134520c1.TVSGEMQV7R4CMTGA.SEARCH&ppt=None&ppn=None&ssid=bh1qiiw05c0000001707029291102&qH=c9a1fdac6e082dd8\n",
      "https://www.flipkart.com/iffalcon-tcl-u62-139-cm-55-inch-ultra-hd-4k-led-smart-google-tv-dolby-audio-hdr10/p/itmf58a1d1c2ef93?pid=TVSGGJTQPBRFGGZK&lid=LSTTVSGGJTQPBRFGGZKXB2HSI&marketplace=FLIPKART&q=tv&store=ckf%2Fczl&spotlightTagId=BestsellerId_ckf%2Fczl&srno=s_1_5&otracker=search&fm=organic&iid=acdc4598-492c-4ab5-b9ec-9da8134520c1.TVSGGJTQPBRFGGZK.SEARCH&ppt=None&ppn=None&ssid=bh1qiiw05c0000001707029291102&qH=c9a1fdac6e082dd8\n",
      "https://www.flipkart.com/thomson-fa-series-80-cm-32-inch-hd-ready-led-smart-android-tv-2023-dolby-digital-plus-11/p/itmd1f23f51d665c?pid=TVSGZ8GQEPCENXHC&lid=LSTTVSGZ8GQEPCENXHCH5HUZX&marketplace=FLIPKART&q=tv&store=ckf%2Fczl&srno=s_1_6&otracker=search&fm=organic&iid=acdc4598-492c-4ab5-b9ec-9da8134520c1.TVSGZ8GQEPCENXHC.SEARCH&ppt=None&ppn=None&ssid=bh1qiiw05c0000001707029291102&qH=c9a1fdac6e082dd8\n",
      "https://www.flipkart.com/dyanora-sigma-108-cm-43-inch-full-hd-led-smart-linux-tv-40-watt-box-speakers-bezel-less-design/p/itmfc3f99ef7958b?pid=TVSGT3KKGEYWTCFG&lid=LSTTVSGT3KKGEYWTCFGOZW01Y&marketplace=FLIPKART&q=tv&store=ckf%2Fczl&srno=s_1_7&otracker=search&fm=organic&iid=en_tOVLylrEiA4qUEOtIqN9QWg10RpPvSuUIIYtmj25xozrYkE8V_IUtjg9KMHNU1NW3mjZdkwBp6oHXjGI6ME0Ow%3D%3D&ppt=None&ppn=None&ssid=bh1qiiw05c0000001707029291102&qH=c9a1fdac6e082dd8\n",
      "https://www.flipkart.com/dyanora-60-cm-24-inch-hd-ready-led-smart-linux-based-tv-noise-reduction-powerful-audio-box-speakers/p/itmd3e42eb9babc4?pid=TVSGFBDG37NBZQTA&lid=LSTTVSGFBDG37NBZQTABPFAWI&marketplace=FLIPKART&q=tv&store=ckf%2Fczl&srno=s_1_8&otracker=search&fm=organic&iid=en_tOVLylrEiA4qUEOtIqN9QWg10RpPvSuUIIYtmj25xoy0-X1ZWlE0pW3Q1ANDObdsEn_723AY80Y_-fvrzT7QMw%3D%3D&ppt=None&ppn=None&ssid=bh1qiiw05c0000001707029291102&qH=c9a1fdac6e082dd8\n",
      "https://www.flipkart.com/thomson-alpha-60-cm-24-inch-hd-ready-led-smart-linux-tv-2023-20-w-sound-output/p/itm8e1f318f88ccc?pid=TVSGMGWWZYMMPG83&lid=LSTTVSGMGWWZYMMPG83APKNG2&marketplace=FLIPKART&q=tv&store=ckf%2Fczl&srno=s_1_9&otracker=search&fm=organic&iid=acdc4598-492c-4ab5-b9ec-9da8134520c1.TVSGMGWWZYMMPG83.SEARCH&ppt=None&ppn=None&ssid=bh1qiiw05c0000001707029291102&qH=c9a1fdac6e082dd8\n",
      "https://www.flipkart.com/iffalcon-tcl-u62-108-cm-43-inch-ultra-hd-4k-led-smart-google-tv-dolby-audio-hdr10/p/itm62e38c0ae0e1f?pid=TVSGGJTQPTRDFDGX&lid=LSTTVSGGJTQPTRDFDGXEORYEG&marketplace=FLIPKART&q=tv&store=ckf%2Fczl&srno=s_1_10&otracker=search&fm=organic&iid=acdc4598-492c-4ab5-b9ec-9da8134520c1.TVSGGJTQPTRDFDGX.SEARCH&ppt=None&ppn=None&ssid=bh1qiiw05c0000001707029291102&qH=c9a1fdac6e082dd8\n",
      "https://www.flipkart.com/dyanora-80-cm-32-inch-hd-ready-led-tv-noise-reduction-cinema-zoom-powerful-audio-box-speakers/p/itm0952283e0ee83?pid=TVSGMY4RVMUXU93M&lid=LSTTVSGMY4RVMUXU93MKTKTCI&marketplace=FLIPKART&q=tv&store=ckf%2Fczl&srno=s_1_11&otracker=search&fm=organic&iid=en_tOVLylrEiA4qUEOtIqN9QWg10RpPvSuUIIYtmj25xowxfj_cBiZktNIHqzdxh6kErLCJX4VgFI3MR2TLtvrgyA%3D%3D&ppt=None&ppn=None&ssid=bh1qiiw05c0000001707029291102&qH=c9a1fdac6e082dd8\n",
      "https://www.flipkart.com/dyanora-au-series-80-cm-32-inch-hd-ready-led-smart-android-tv-certified-11-dolby-audio-30-watt-sound-output-2023/p/itm450db5eb52ceb?pid=TVSGSZCXPARBF5KW&lid=LSTTVSGSZCXPARBF5KW0V8OFS&marketplace=FLIPKART&q=tv&store=ckf%2Fczl&srno=s_1_12&otracker=search&fm=organic&iid=en_tOVLylrEiA4qUEOtIqN9QWg10RpPvSuUIIYtmj25xoy5-MP6oFSda1prE24K8rXkaO-DurdoOSOST0u94JWWDg%3D%3D&ppt=None&ppn=None&ssid=bh1qiiw05c0000001707029291102&qH=c9a1fdac6e082dd8\n",
      "https://www.flipkart.com/sony-bravia-108-cm-43-inch-ultra-hd-4k-led-smart-google-tv-2022/p/itm5b27f5bd94dba?pid=TVSGEYBH8PGUDPYT&lid=LSTTVSGEYBH8PGUDPYTEI6VPY&marketplace=FLIPKART&q=tv&store=ckf%2Fczl&srno=s_1_13&otracker=search&fm=organic&iid=acdc4598-492c-4ab5-b9ec-9da8134520c1.TVSGEYBH8PGUDPYT.SEARCH&ppt=None&ppn=None&ssid=bh1qiiw05c0000001707029291102&qH=c9a1fdac6e082dd8\n",
      "https://www.flipkart.com/thomson-9a-series-80-cm-32-inch-hd-ready-led-smart-android-tv/p/itmf308ee864c4df?pid=TVSFUYG8KB8GZAZA&lid=LSTTVSFUYG8KB8GZAZA5MM6VE&marketplace=FLIPKART&q=tv&store=ckf%2Fczl&srno=s_1_14&otracker=search&fm=organic&iid=acdc4598-492c-4ab5-b9ec-9da8134520c1.TVSFUYG8KB8GZAZA.SEARCH&ppt=None&ppn=None&ssid=bh1qiiw05c0000001707029291102&qH=c9a1fdac6e082dd8\n",
      "https://www.flipkart.com/samsung-80-cm-32-inch-hd-ready-led-smart-tizen-tv-2022-bezel-free-design/p/itm33b1495b9e937?pid=TVSGHY2UZA9YHWQN&lid=LSTTVSGHY2UZA9YHWQNCPAW6M&marketplace=FLIPKART&q=tv&store=ckf%2Fczl&spotlightTagId=BestsellerId_ckf%2Fczl&srno=s_1_15&otracker=search&fm=organic&iid=acdc4598-492c-4ab5-b9ec-9da8134520c1.TVSGHY2UZA9YHWQN.SEARCH&ppt=None&ppn=None&ssid=bh1qiiw05c0000001707029291102&qH=c9a1fdac6e082dd8\n",
      "https://www.flipkart.com/mi-5x-108-cm-43-inch-ultra-hd-4k-led-smart-android-tv-4k-dolby-vision-hdr10-dolby-atmos-dts-hd-vivid-picture-engine-2-adaptive-brightness/p/itmdbe462199849a?pid=TVSG5ZGZGZGDJBC3&lid=LSTTVSG5ZGZGZGDJBC3WJCZND&marketplace=FLIPKART&q=tv&store=ckf%2Fczl&srno=s_1_16&otracker=search&fm=organic&iid=acdc4598-492c-4ab5-b9ec-9da8134520c1.TVSG5ZGZGZGDJBC3.SEARCH&ppt=None&ppn=None&ssid=bh1qiiw05c0000001707029291102&qH=c9a1fdac6e082dd8\n",
      "https://www.flipkart.com/dyanora-au-series-108-cm-43-inch-ultra-hd-4k-led-smart-android-tv-certified-11-dolby-audio-30-watt-sound-output-2023/p/itm8977d293ac205?pid=TVSGT5YFHMA975YH&lid=LSTTVSGT5YFHMA975YHIYIMQY&marketplace=FLIPKART&q=tv&store=ckf%2Fczl&srno=s_1_17&otracker=search&fm=organic&iid=en_tOVLylrEiA4qUEOtIqN9QWg10RpPvSuUIIYtmj25xoyLp0B1YTSrrgti7gsw7Z60MEOQjyVo8_KtbTDwsMnYEA%3D%3D&ppt=None&ppn=None&ssid=bh1qiiw05c0000001707029291102&qH=c9a1fdac6e082dd8\n",
      "https://www.flipkart.com/dyanora-au-series-108-cm-43-inch-full-hd-led-smart-android-tv-certified-11-dolby-audio-30-watt-sound-output-2023/p/itmf759f54f2f6cd?pid=TVSGSZCXWKMBHZVY&lid=LSTTVSGSZCXWKMBHZVYHPQRIQ&marketplace=FLIPKART&q=tv&store=ckf%2Fczl&srno=s_1_18&otracker=search&fm=organic&iid=en_tOVLylrEiA4qUEOtIqN9QWg10RpPvSuUIIYtmj25xoxD1oJADaVTcOARK3f7BVWj1qUr3qNu0gZ9in_NqqyLEg%3D%3D&ppt=None&ppn=None&ssid=bh1qiiw05c0000001707029291102&qH=c9a1fdac6e082dd8\n",
      "https://www.flipkart.com/realme-126-cm-50-inch-ultra-hd-4k-led-smart-android-tv-handsfree-voice-search-dolby-vision-atmos/p/itmffb77cae25999?pid=TVSG2B4A3PSFNNRX&lid=LSTTVSG2B4A3PSFNNRXTCLDW2&marketplace=FLIPKART&q=tv&store=ckf%2Fczl&srno=s_1_19&otracker=search&fm=organic&iid=acdc4598-492c-4ab5-b9ec-9da8134520c1.TVSG2B4A3PSFNNRX.SEARCH&ppt=None&ppn=None&ssid=bh1qiiw05c0000001707029291102&qH=c9a1fdac6e082dd8\n",
      "https://www.flipkart.com/oneplus-y1s-108-cm-43-inch-full-hd-led-smart-android-tv-2022-11-bezel-less-frame/p/itmeafe591d1ac5e?pid=TVSGAXEVSNT3HBQA&lid=LSTTVSGAXEVSNT3HBQADHUARX&marketplace=FLIPKART&q=tv&store=ckf%2Fczl&srno=s_1_20&otracker=search&fm=organic&iid=acdc4598-492c-4ab5-b9ec-9da8134520c1.TVSGAXEVSNT3HBQA.SEARCH&ppt=None&ppn=None&ssid=bh1qiiw05c0000001707029291102&qH=c9a1fdac6e082dd8\n",
      "https://www.flipkart.com/oneplus-u1s-164-cm-65-inch-ultra-hd-4k-led-smart-android-tv-far-field-dolby-audio/p/itm14787069247d3?pid=TVSG3E9A3MNZUTQK&lid=LSTTVSG3E9A3MNZUTQKPBOQT4&marketplace=FLIPKART&q=tv&store=ckf%2Fczl&srno=s_1_21&otracker=search&fm=organic&iid=acdc4598-492c-4ab5-b9ec-9da8134520c1.TVSG3E9A3MNZUTQK.SEARCH&ppt=None&ppn=None&ssid=bh1qiiw05c0000001707029291102&qH=c9a1fdac6e082dd8\n",
      "https://www.flipkart.com/infinix-y1-80-cm-32-inch-hd-ready-led-smart-linux-tv-2022-youtube-pre-loaded-apps-wifi-enabled-miracast-web-browser/p/itm55f4173aa0db3?pid=TVSGFGF34GMTB9KF&lid=LSTTVSGFGF34GMTB9KFNOEUDG&marketplace=FLIPKART&q=tv&store=ckf%2Fczl&srno=s_1_22&otracker=search&fm=organic&iid=acdc4598-492c-4ab5-b9ec-9da8134520c1.TVSGFGF34GMTB9KF.SEARCH&ppt=None&ppn=None&ssid=bh1qiiw05c0000001707029291102&qH=c9a1fdac6e082dd8\n",
      "https://www.flipkart.com/thomson-139-cm-55-inch-qled-ultra-hd-4k-smart-google-tv-dolby-vision-atmos/p/itm1d6dfb474afdf?pid=TVSGHADTWPTJCMP7&lid=LSTTVSGHADTWPTJCMP7I7JYUW&marketplace=FLIPKART&q=tv&store=ckf%2Fczl&srno=s_1_23&otracker=search&fm=organic&iid=acdc4598-492c-4ab5-b9ec-9da8134520c1.TVSGHADTWPTJCMP7.SEARCH&ppt=None&ppn=None&ssid=bh1qiiw05c0000001707029291102&qH=c9a1fdac6e082dd8\n",
      "https://www.flipkart.com/marq-flipkart-60-cm-24-inch-hd-ready-led-tv/p/itmb233e78873f46?pid=TVSG6YMAAFGNQNSD&lid=LSTTVSG6YMAAFGNQNSDJIKT3J&marketplace=FLIPKART&q=tv&store=ckf%2Fczl&srno=s_1_24&otracker=search&fm=organic&iid=acdc4598-492c-4ab5-b9ec-9da8134520c1.TVSG6YMAAFGNQNSD.SEARCH&ppt=None&ppn=None&ssid=bh1qiiw05c0000001707029291102&qH=c9a1fdac6e082dd8\n"
     ]
    },
    {
     "ename": "AttributeError",
     "evalue": "'NoneType' object has no attribute 'a'",
     "output_type": "error",
     "traceback": [
      "\u001b[1;31m---------------------------------------------------------------------------\u001b[0m",
      "\u001b[1;31mAttributeError\u001b[0m                            Traceback (most recent call last)",
      "Cell \u001b[1;32mIn[29], line 2\u001b[0m\n\u001b[0;32m      1\u001b[0m \u001b[38;5;28;01mfor\u001b[39;00m i \u001b[38;5;129;01min\u001b[39;00m big_box:\n\u001b[1;32m----> 2\u001b[0m     \u001b[38;5;28mprint\u001b[39m(\u001b[38;5;124m\"\u001b[39m\u001b[38;5;124mhttps://www.flipkart.com\u001b[39m\u001b[38;5;124m\"\u001b[39m\u001b[38;5;241m+\u001b[39m\u001b[43mi\u001b[49m\u001b[38;5;241;43m.\u001b[39;49m\u001b[43mdiv\u001b[49m\u001b[38;5;241;43m.\u001b[39;49m\u001b[43mdiv\u001b[49m\u001b[38;5;241;43m.\u001b[39;49m\u001b[43mdiv\u001b[49m\u001b[38;5;241;43m.\u001b[39;49m\u001b[43ma\u001b[49m[\u001b[38;5;124m'\u001b[39m\u001b[38;5;124mhref\u001b[39m\u001b[38;5;124m'\u001b[39m])\n",
      "\u001b[1;31mAttributeError\u001b[0m: 'NoneType' object has no attribute 'a'"
     ]
    }
   ],
   "source": [
    "for i in big_box:\n",
    "    print(\"https://www.flipkart.com\"+i.div.div.div.a['href'])\n",
    "    "
   ]
  },
  {
   "cell_type": "code",
   "execution_count": 57,
   "id": "edc4dadf",
   "metadata": {},
   "outputs": [
    {
     "data": {
      "text/plain": [
       "'https://www.flipkart.com/iffalcon-tcl-79-97-cm-32-inch-hd-ready-led-smart-android-tv-google-assistant/p/itm96e1c0ac31c75?pid=TVSGKNZGHCZRNEDW&lid=LSTTVSGKNZGHCZRNEDWPKDF2X&marketplace=FLIPKART&q=tv&store=ckf%2Fczl&spotlightTagId=BestsellerId_ckf%2Fczl&srno=s_1_3&otracker=search&fm=organic&iid=acdc4598-492c-4ab5-b9ec-9da8134520c1.TVSGKNZGHCZRNEDW.SEARCH&ppt=None&ppn=None&ssid=bh1qiiw05c0000001707029291102&qH=c9a1fdac6e082dd8'"
      ]
     },
     "execution_count": 57,
     "metadata": {},
     "output_type": "execute_result"
    }
   ],
   "source": [
    "productlink"
   ]
  },
  {
   "cell_type": "code",
   "execution_count": 70,
   "id": "496de441",
   "metadata": {},
   "outputs": [],
   "source": [
    "urlclient=urlopen(productlink)"
   ]
  },
  {
   "cell_type": "code",
   "execution_count": 71,
   "id": "078a9027",
   "metadata": {},
   "outputs": [
    {
     "data": {
      "text/plain": [
       "<http.client.HTTPResponse at 0x27f3a00b670>"
      ]
     },
     "execution_count": 71,
     "metadata": {},
     "output_type": "execute_result"
    }
   ],
   "source": [
    "urlclient"
   ]
  },
  {
   "cell_type": "code",
   "execution_count": 72,
   "id": "0f034c6c",
   "metadata": {},
   "outputs": [],
   "source": [
    "product_html=urlclient.read()"
   ]
  },
  {
   "cell_type": "code",
   "execution_count": 75,
   "id": "352fb16d",
   "metadata": {},
   "outputs": [],
   "source": [
    "product_soup=bs(product_html,'html.parser')"
   ]
  },
  {
   "cell_type": "code",
   "execution_count": 94,
   "id": "ed9304fc",
   "metadata": {},
   "outputs": [],
   "source": [
    "comment_box=product_soup.find_all('div',class_=\"_16PBlm\")"
   ]
  },
  {
   "cell_type": "code",
   "execution_count": 96,
   "id": "6df6ee4f",
   "metadata": {},
   "outputs": [
    {
     "data": {
      "text/plain": [
       "'4Very Good'"
      ]
     },
     "execution_count": 96,
     "metadata": {},
     "output_type": "execute_result"
    }
   ],
   "source": [
    "comment_box[0].div.div.div.text"
   ]
  },
  {
   "cell_type": "code",
   "execution_count": 97,
   "id": "e40c80fa",
   "metadata": {},
   "outputs": [
    {
     "name": "stdout",
     "output_type": "stream",
     "text": [
      "4Very Good\n",
      "5Just wow!\n",
      "5Awesome\n",
      "5Simply awesome\n",
      "5Must buy!\n",
      "5Excellent\n",
      "5Mind-blowing purchase\n",
      "3Does the job\n",
      "5Terrific\n",
      "5Must buy!\n"
     ]
    },
    {
     "ename": "AttributeError",
     "evalue": "'NoneType' object has no attribute 'div'",
     "output_type": "error",
     "traceback": [
      "\u001b[1;31m---------------------------------------------------------------------------\u001b[0m",
      "\u001b[1;31mAttributeError\u001b[0m                            Traceback (most recent call last)",
      "Cell \u001b[1;32mIn[97], line 2\u001b[0m\n\u001b[0;32m      1\u001b[0m \u001b[38;5;28;01mfor\u001b[39;00m i \u001b[38;5;129;01min\u001b[39;00m comment_box:\n\u001b[1;32m----> 2\u001b[0m     \u001b[38;5;28mprint\u001b[39m(\u001b[43mi\u001b[49m\u001b[38;5;241;43m.\u001b[39;49m\u001b[43mdiv\u001b[49m\u001b[38;5;241;43m.\u001b[39;49m\u001b[43mdiv\u001b[49m\u001b[38;5;241m.\u001b[39mdiv\u001b[38;5;241m.\u001b[39mtext)\n",
      "\u001b[1;31mAttributeError\u001b[0m: 'NoneType' object has no attribute 'div'"
     ]
    }
   ],
   "source": [
    "for i in comment_box:\n",
    "    print(i.div.div.div.text)"
   ]
  },
  {
   "cell_type": "code",
   "execution_count": 111,
   "id": "231d852c",
   "metadata": {},
   "outputs": [],
   "source": [
    "comment_discript=product_soup.find_all('div',class_=\"t-ZTKy\")"
   ]
  },
  {
   "cell_type": "code",
   "execution_count": 112,
   "id": "5bb48540",
   "metadata": {},
   "outputs": [
    {
     "data": {
      "text/plain": [
       "'Pros1. Automatic Connectivity with wifi hotspot is better than mi Android box.2. Remote with Superb handy design and quality buttons3. Multiple picture settings allow us to suit our needs.4. Bluetooth headphones can be connected5. Almost all apps working fine and smoothCons:-1. The picture quality is good and not at all whitish screen like low budget tv; But the best picture quality is only visible while sitting directly on front of tv, if we move a bit from the exact front, it reduce...'"
      ]
     },
     "execution_count": 112,
     "metadata": {},
     "output_type": "execute_result"
    }
   ],
   "source": [
    "comment_discript[0].div.div.text"
   ]
  },
  {
   "cell_type": "code",
   "execution_count": 116,
   "id": "6d84b1dd",
   "metadata": {},
   "outputs": [
    {
     "name": "stdout",
     "output_type": "stream",
     "text": [
      "Pros1. Automatic Connectivity with wifi hotspot is better than mi Android box.2. Remote with Superb handy design and quality buttons3. Multiple picture settings allow us to suit our needs.4. Bluetooth headphones can be connected5. Almost all apps working fine and smoothCons:-1. The picture quality is good and not at all whitish screen like low budget tv; But the best picture quality is only visible while sitting directly on front of tv, if we move a bit from the exact front, it reduce... \n",
      "\n",
      "Nambi vangalam , thank you my Flipkart jiVery very niceGood qualitySound superNow my mini theatre okI love you 💝 Flipkart \n",
      "\n",
      "Awesome Tv ❣️ \n",
      "\n",
      "3 years back  i purchased this TV and still working fine , so based on experience 2 TVs ordered for my friend and relative year back ,  again this time one more TVs ordered, Really awesome in this rate. \n",
      "\n",
      "IFFALCON F53 ANDROID 11 LED TV IS REALLY GREAT AND TOTALLY AWESOME PRODUCT.THANK IFFALCON AND FLIPKART FOR SUCH WONDERFUL 32 ANDROID 11 TV ❤️💯👌👌TOTALLY VALUE FOR MONEY 👌👌NEVER MISS THIS BEAUTIFUL DEAL IN DIWALI SALE TOTALLY CUSTOMER SATISFACTION PRODUCT.MY HONEST REVIEW FOR THIS IFFALCON F 53 TVPICTURE: 5 STAR 🌟🌟🌟🌟🌟SOUND:5 STAR 🌟🌟🌟🌟🌟CONNECTIVITY:5 STAR 🌟🌟🌟🌟🌟REMOTE:5 STAR 🌟🌟🌟🌟🌟BUILD QUALITY:5 STAR 🌟🌟🌟🌟🌟CONSUSB : 3 STAR 🌟🌟🌟THERE IS ONLY 1 SLOT FOR U... \n",
      "\n",
      "I have been an old user of Iffalcon TV since 2019 and this is my second purchase. The TV works great, great picture quality and great sound. Easy to connect...Google TV is smooth and useful. And in this price point it is the best you can buy. \n",
      "\n",
      "I think there is no product compare to this tv at this price,value for money ,sound is very good, picture quality also good must buy \n",
      "\n",
      "Product is good in this price but delivery and installation facility is very very bad. @Flipkart need to provide better delivery and installation service. \n",
      "\n",
      "Best led \n",
      "\n",
      "Value for money Best smart in budget 😊😊 \n",
      "\n"
     ]
    }
   ],
   "source": [
    "for i in comment_discript:\n",
    "    print(i.div.div.text,'\\n')"
   ]
  },
  {
   "cell_type": "code",
   "execution_count": null,
   "id": "22e543fd",
   "metadata": {},
   "outputs": [],
   "source": []
  }
 ],
 "metadata": {
  "kernelspec": {
   "display_name": "Python 3 (ipykernel)",
   "language": "python",
   "name": "python3"
  },
  "language_info": {
   "codemirror_mode": {
    "name": "ipython",
    "version": 3
   },
   "file_extension": ".py",
   "mimetype": "text/x-python",
   "name": "python",
   "nbconvert_exporter": "python",
   "pygments_lexer": "ipython3",
   "version": "3.10.9"
  }
 },
 "nbformat": 4,
 "nbformat_minor": 5
}
