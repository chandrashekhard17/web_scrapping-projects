{
 "cells": [
  {
   "cell_type": "code",
   "execution_count": null,
   "id": "ce5bd1a0",
   "metadata": {},
   "outputs": [],
   "source": [
    "import re\n",
    "import json\n",
    "from bs4 import BeautifulSoup\n",
    "from urllib.request import urlopen\n",
    "\n",
    "# URL of the YouTube page\n",
    "youtube_search = \"https://www.youtube.com/@PW-Foundation/videos\"\n",
    "\n",
    "# Open the URL and read the content of the page\n",
    "url_search = urlopen(youtube_search)\n",
    "youtube_page = url_search.read()\n",
    "\n",
    "# Parse the HTML content of the page using BeautifulSoup\n",
    "youtube_html = BeautifulSoup(youtube_page, \"html.parser\")\n",
    "\n",
    "# Define a regular expression pattern to extract the JSON data from the script tag\n",
    "pattern = r'<script nonce=\\\"[-\\\\w]+\\\">\\\\n\\\\s+var ytInitialData = (.+)'\n",
    "script_data = re.search(pattern=pattern, string=youtube_html.prettify())[1].replace(';', '')\n",
    "\n",
    "# Load the JSON data into a Python dictionary\n",
    "json_data = json.loads(script_data)\n",
    "\n",
    "# Extract the list of videos from the JSON data\n",
    "videos_container = json_data['contents']['twoColumnBrowseResultsRenderer']['tabs'][1]['tabRenderer']['content']['richGridRenderer']['contents']\n",
    "\n",
    "# Print the URLs of the first five videos\n",
    "for i, video in enumerate(videos_container[:-1]):\n",
    "    if i < 5:  # Only get the first five videos\n",
    "        video_id = video['richItemRenderer']['content']['videoRenderer']['videoId']\n",
    "        video_url = f\"https://www.youtube.com/watch?v={video_id}\"\n",
    "        print(video_url)\n"
   ]
  },
  {
   "cell_type": "code",
   "execution_count": null,
   "id": "ca031855",
   "metadata": {},
   "outputs": [],
   "source": [
    "from bs4 import BeautifulSoup\n",
    "import requests\n",
    "\n",
    "# URL of the YouTube page\n",
    "url = \"https://www.youtube.com/@PW-Foundation/videos\"\n",
    "\n",
    "# Send a GET request to the URL\n",
    "response = requests.get(url)\n",
    "\n",
    "# Parse the HTML content of the page with BeautifulSoup\n",
    "soup = BeautifulSoup(response.text, 'html.parser')\n",
    "\n",
    "# Find all 'div' tags with the class 'style-scope ytd-rich-grid-renderer'\n",
    "divs = soup.find_all('div', class_='style-scope ytd-rich-grid-renderer')\n",
    "\n"
   ]
  }
 ],
 "metadata": {
  "kernelspec": {
   "display_name": "Python 3 (ipykernel)",
   "language": "python",
   "name": "python3"
  },
  "language_info": {
   "codemirror_mode": {
    "name": "ipython",
    "version": 3
   },
   "file_extension": ".py",
   "mimetype": "text/x-python",
   "name": "python",
   "nbconvert_exporter": "python",
   "pygments_lexer": "ipython3",
   "version": "3.10.9"
  }
 },
 "nbformat": 4,
 "nbformat_minor": 5
}
